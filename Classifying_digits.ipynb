{
  "cells": [
    {
      "cell_type": "code",
      "execution_count": 1,
      "id": "75c16651",
      "metadata": {
        "id": "75c16651"
      },
      "outputs": [],
      "source": [
        "import numpy as np\n",
        "import pandas as pd\n",
        "import tensorflow as tf\n",
        "import matplotlib.pyplot as plt\n",
        "from sklearn.preprocessing import LabelBinarizer"
      ]
    },
    {
      "cell_type": "code",
      "execution_count": 2,
      "id": "2c1270bc",
      "metadata": {
        "id": "2c1270bc"
      },
      "outputs": [],
      "source": [
        "from tensorflow.keras.models import Sequential\n",
        "from tensorflow.keras.layers import Flatten\n",
        "from tensorflow.keras.layers import BatchNormalization\n",
        "from tensorflow.keras.layers import Activation\n",
        "from tensorflow.keras.layers import Dense\n",
        "from tensorflow.keras.optimizers import SGD,Adam\n",
        "from tensorflow.keras.datasets import mnist"
      ]
    },
    {
      "cell_type": "code",
      "execution_count": 3,
      "id": "657244c0",
      "metadata": {
        "colab": {
          "base_uri": "https://localhost:8080/"
        },
        "id": "657244c0",
        "outputId": "9710b4f6-69eb-4e10-e049-ee5e870d9de4"
      },
      "outputs": [
        {
          "output_type": "stream",
          "name": "stdout",
          "text": [
            "Downloading data from https://storage.googleapis.com/tensorflow/tf-keras-datasets/mnist.npz\n",
            "11490434/11490434 [==============================] - 1s 0us/step\n",
            "MNIST dataset\n",
            "Shape of training data (60000, 28, 28)\n",
            "Shape of test data (10000, 28, 28)\n"
          ]
        }
      ],
      "source": [
        "((Xtrain, Ytrain), (Xtest, Ytest)) = mnist.load_data()\n",
        "print(\"MNIST dataset\")\n",
        "print('Shape of training data',Xtrain.shape)\n",
        "print('Shape of test data',Xtest.shape)"
      ]
    },
    {
      "cell_type": "code",
      "execution_count": null,
      "id": "658e82bd",
      "metadata": {
        "id": "658e82bd"
      },
      "outputs": [],
      "source": [
        "Xtrain = Xtrain.astype(\"float32\")/255\n",
        "Xtest = Xtest.astype(\"float32\") /255"
      ]
    },
    {
      "cell_type": "code",
      "execution_count": null,
      "id": "3cd6d876",
      "metadata": {
        "id": "3cd6d876"
      },
      "outputs": [],
      "source": [
        "Ytrain = LabelBinarizer().fit_transform(Ytrain)\n",
        "Ytest = LabelBinarizer().fit_transform(Ytest)"
      ]
    },
    {
      "cell_type": "markdown",
      "id": "ced2dfc1",
      "metadata": {
        "id": "ced2dfc1"
      },
      "source": [
        "# Deep network with relu in hidden layers and sigmoid in output layer"
      ]
    },
    {
      "cell_type": "code",
      "execution_count": null,
      "id": "12c856be",
      "metadata": {
        "id": "12c856be"
      },
      "outputs": [],
      "source": [
        "model = Sequential()\n",
        "model.add(Flatten(input_shape=(28,28)))\n",
        "i=0\n",
        "while i<10:\n",
        "    model.add(Dense(10))\n",
        "    model.add(Activation(\"relu\"))\n",
        "    model.add(BatchNormalization())\n",
        "    i+=1\n",
        "model.add(Dense(10, activation=\"sigmoid\"))"
      ]
    },
    {
      "cell_type": "code",
      "execution_count": null,
      "id": "cb12b236",
      "metadata": {
        "scrolled": true,
        "id": "cb12b236",
        "outputId": "e5be8fb9-2def-4fc6-8270-5ee99523ac68"
      },
      "outputs": [
        {
          "name": "stdout",
          "output_type": "stream",
          "text": [
            "Epoch 1/10\n",
            "938/938 [==============================] - 10s 7ms/step - loss: 0.6797 - accuracy: 0.8096 - val_loss: 0.5592 - val_accuracy: 0.8510\n",
            "Epoch 2/10\n",
            "938/938 [==============================] - 5s 5ms/step - loss: 0.6322 - accuracy: 0.8249 - val_loss: 0.5250 - val_accuracy: 0.8590\n",
            "Epoch 3/10\n",
            "938/938 [==============================] - 4s 4ms/step - loss: 0.5948 - accuracy: 0.8372 - val_loss: 0.4903 - val_accuracy: 0.8727\n",
            "Epoch 4/10\n",
            "938/938 [==============================] - 4s 4ms/step - loss: 0.5726 - accuracy: 0.8453 - val_loss: 0.4647 - val_accuracy: 0.8767\n",
            "Epoch 5/10\n",
            "938/938 [==============================] - 4s 4ms/step - loss: 0.5499 - accuracy: 0.8521 - val_loss: 0.4533 - val_accuracy: 0.8799\n",
            "Epoch 6/10\n",
            "938/938 [==============================] - 4s 4ms/step - loss: 0.5272 - accuracy: 0.8584 - val_loss: 0.4478 - val_accuracy: 0.8848\n",
            "Epoch 7/10\n",
            "938/938 [==============================] - 5s 6ms/step - loss: 0.5131 - accuracy: 0.8624 - val_loss: 0.4205 - val_accuracy: 0.8912\n",
            "Epoch 8/10\n",
            "938/938 [==============================] - 5s 5ms/step - loss: 0.4948 - accuracy: 0.8667 - val_loss: 0.4076 - val_accuracy: 0.8927\n",
            "Epoch 9/10\n",
            "938/938 [==============================] - 4s 4ms/step - loss: 0.4868 - accuracy: 0.8695 - val_loss: 0.3999 - val_accuracy: 0.8958\n",
            "Epoch 10/10\n",
            "938/938 [==============================] - 4s 4ms/step - loss: 0.4728 - accuracy: 0.8739 - val_loss: 0.3890 - val_accuracy: 0.8976\n"
          ]
        }
      ],
      "source": [
        "batch_size=64\n",
        "adam = Adam(0.0001)\n",
        "model.compile(loss=\"categorical_crossentropy\", optimizer=adam, metrics=[\"accuracy\"])\n",
        "Hyp = model.fit(Xtrain, Ytrain, validation_data=(Xtest,Ytest), epochs=10, batch_size=batch_size)"
      ]
    },
    {
      "cell_type": "code",
      "execution_count": null,
      "id": "9c896cde",
      "metadata": {
        "id": "9c896cde",
        "outputId": "97d34f99-f897-4587-be91-abd6a47745c4"
      },
      "outputs": [
        {
          "name": "stdout",
          "output_type": "stream",
          "text": [
            "313/313 [==============================] - 1s 3ms/step - loss: 0.3890 - accuracy: 0.8976\n",
            "Accuracy is : 89.76%\n"
          ]
        }
      ],
      "source": [
        "test_loss,test_acc = model.evaluate(Xtest,  Ytest)\n",
        "test_acc*=100\n",
        "test_acc=round(test_acc,2)\n",
        "print(f\"Accuracy is : {test_acc}%\")"
      ]
    },
    {
      "cell_type": "code",
      "execution_count": null,
      "id": "f081435a",
      "metadata": {
        "id": "f081435a",
        "outputId": "a9ce4228-6e8c-4e7e-f2d3-e1008cd00cad"
      },
      "outputs": [
        {
          "name": "stdout",
          "output_type": "stream",
          "text": [
            "313/313 [==============================] - 1s 2ms/step\n",
            "[0 0 0 1 0 0 0 0 0 0]\n",
            "[0.5765661  0.06779669 0.6509046  0.9707495  0.03449549 0.742575\n",
            " 0.15512373 0.2976762  0.5666699  0.07002506]\n",
            "3\n"
          ]
        }
      ],
      "source": [
        "predictions = model.predict(Xtest)\n",
        "print(Ytest[3486])\n",
        "print(predictions[3486])\n",
        "print(np.argmax(predictions[3486]))"
      ]
    },
    {
      "cell_type": "markdown",
      "id": "0011f4bc",
      "metadata": {
        "id": "0011f4bc"
      },
      "source": [
        "# Deep network with sigmoid everywhere"
      ]
    },
    {
      "cell_type": "code",
      "execution_count": null,
      "id": "28ee4fe5",
      "metadata": {
        "id": "28ee4fe5"
      },
      "outputs": [],
      "source": [
        "model_s = Sequential()\n",
        "model_s.add(Flatten(input_shape=(28,28)))\n",
        "for i in range(0,10):\n",
        "    model_s.add(Dense(10))\n",
        "    model_s.add(Activation(\"sigmoid\"))\n",
        "    model_s.add(BatchNormalization())\n",
        "model_s.add(Dense(10, activation=\"sigmoid\"))"
      ]
    },
    {
      "cell_type": "code",
      "execution_count": null,
      "id": "99f72b15",
      "metadata": {
        "id": "99f72b15",
        "outputId": "185d8da4-9c31-493c-a699-b224fdb66add"
      },
      "outputs": [
        {
          "name": "stdout",
          "output_type": "stream",
          "text": [
            "Epoch 1/10\n",
            "938/938 [==============================] - 10s 7ms/step - loss: 0.3579 - accuracy: 0.8977 - val_loss: 0.2895 - val_accuracy: 0.9179\n",
            "Epoch 2/10\n",
            "938/938 [==============================] - 4s 5ms/step - loss: 0.3451 - accuracy: 0.9007 - val_loss: 0.2787 - val_accuracy: 0.9203\n",
            "Epoch 3/10\n",
            "938/938 [==============================] - 4s 4ms/step - loss: 0.3346 - accuracy: 0.9036 - val_loss: 0.2676 - val_accuracy: 0.9225\n",
            "Epoch 4/10\n",
            "938/938 [==============================] - 4s 4ms/step - loss: 0.3267 - accuracy: 0.9053 - val_loss: 0.2618 - val_accuracy: 0.9242\n",
            "Epoch 5/10\n",
            "938/938 [==============================] - 4s 4ms/step - loss: 0.3163 - accuracy: 0.9075 - val_loss: 0.2532 - val_accuracy: 0.9276\n",
            "Epoch 6/10\n",
            "938/938 [==============================] - 4s 4ms/step - loss: 0.3086 - accuracy: 0.9105 - val_loss: 0.2457 - val_accuracy: 0.9289\n",
            "Epoch 7/10\n",
            "938/938 [==============================] - 4s 4ms/step - loss: 0.3024 - accuracy: 0.9120 - val_loss: 0.2427 - val_accuracy: 0.9294\n",
            "Epoch 8/10\n",
            "938/938 [==============================] - 4s 4ms/step - loss: 0.2934 - accuracy: 0.9155 - val_loss: 0.2383 - val_accuracy: 0.9288\n",
            "Epoch 9/10\n",
            "938/938 [==============================] - 4s 4ms/step - loss: 0.2897 - accuracy: 0.9155 - val_loss: 0.2328 - val_accuracy: 0.9301\n",
            "Epoch 10/10\n",
            "938/938 [==============================] - 4s 4ms/step - loss: 0.2863 - accuracy: 0.9159 - val_loss: 0.2288 - val_accuracy: 0.9334\n"
          ]
        }
      ],
      "source": [
        "batch_size=64\n",
        "sgd = Adam(0.0001)\n",
        "model_s.compile(loss=\"categorical_crossentropy\", optimizer=sgd, metrics=[\"accuracy\"])\n",
        "Hyp_s = model_s.fit(Xtrain, Ytrain, validation_data=(Xtest,Ytest), epochs=10, batch_size=batch_size)"
      ]
    },
    {
      "cell_type": "code",
      "execution_count": null,
      "id": "278d9f91",
      "metadata": {
        "id": "278d9f91",
        "outputId": "323ae725-e9c4-43e0-f5b5-82018fa5a770"
      },
      "outputs": [
        {
          "name": "stdout",
          "output_type": "stream",
          "text": [
            "313/313 [==============================] - 1s 3ms/step - loss: 0.3890 - accuracy: 0.8976\n",
            "Accuracy is : 89.76%\n"
          ]
        }
      ],
      "source": [
        "test_loss,test_acc = model.evaluate(Xtest,  Ytest)\n",
        "test_acc*=100\n",
        "test_acc=round(test_acc,2)\n",
        "print(f\"Accuracy is : {test_acc}%\")"
      ]
    },
    {
      "cell_type": "code",
      "execution_count": null,
      "id": "082e2a04",
      "metadata": {
        "id": "082e2a04",
        "outputId": "72c1705b-b9d9-4d3a-d70d-82de1440fe4c"
      },
      "outputs": [
        {
          "name": "stdout",
          "output_type": "stream",
          "text": [
            "313/313 [==============================] - 0s 1ms/step\n",
            "[0 1 0 0 0 0 0 0 0 0]\n",
            "[0.40999725 0.99614114 0.18233575 0.07174816 0.47983474 0.10311195\n",
            " 0.28224963 0.3753459  0.36201915 0.05858403]\n",
            "1\n"
          ]
        }
      ],
      "source": [
        "predictions = model.predict(Xtest)\n",
        "print(Ytest[3421])\n",
        "print(predictions[3421])\n",
        "print(np.argmax(predictions[3421]))"
      ]
    },
    {
      "cell_type": "code",
      "execution_count": null,
      "id": "00c02d17",
      "metadata": {
        "id": "00c02d17"
      },
      "outputs": [],
      "source": []
    }
  ],
  "metadata": {
    "kernelspec": {
      "display_name": "Python 3 (ipykernel)",
      "language": "python",
      "name": "python3"
    },
    "language_info": {
      "codemirror_mode": {
        "name": "ipython",
        "version": 3
      },
      "file_extension": ".py",
      "mimetype": "text/x-python",
      "name": "python",
      "nbconvert_exporter": "python",
      "pygments_lexer": "ipython3",
      "version": "3.10.7"
    },
    "colab": {
      "provenance": []
    }
  },
  "nbformat": 4,
  "nbformat_minor": 5
}